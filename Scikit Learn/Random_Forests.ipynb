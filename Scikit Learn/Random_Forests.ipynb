{
  "nbformat": 4,
  "nbformat_minor": 0,
  "metadata": {
    "colab": {
      "name": "Random_Forests.ipynb",
      "version": "0.3.2",
      "provenance": [],
      "include_colab_link": true
    },
    "kernelspec": {
      "name": "python3",
      "display_name": "Python 3"
    }
  },
  "cells": [
    {
      "cell_type": "markdown",
      "metadata": {
        "id": "view-in-github",
        "colab_type": "text"
      },
      "source": [
        "<a href=\"https://colab.research.google.com/github/franckalain/Machine-learning-Projects/blob/master/Scikit%20Learn/Random_Forests.ipynb\" target=\"_parent\"><img src=\"https://colab.research.google.com/assets/colab-badge.svg\" alt=\"Open In Colab\"/></a>"
      ]
    },
    {
      "cell_type": "code",
      "metadata": {
        "id": "ioLRkYRtplWh",
        "colab_type": "code",
        "colab": {}
      },
      "source": [
        "from sklearn.ensemble import RandomForestClassifier\n",
        "from sklearn.model_selection import train_test_split\n",
        "from sklearn.datasets import load_breast_cancer"
      ],
      "execution_count": 0,
      "outputs": []
    },
    {
      "cell_type": "code",
      "metadata": {
        "id": "-A7nYUTDsgXl",
        "colab_type": "code",
        "colab": {}
      },
      "source": [
        "import matplotlib.pyplot as plt\n",
        "import numpy as np\n",
        "%matplotlib inline"
      ],
      "execution_count": 0,
      "outputs": []
    },
    {
      "cell_type": "code",
      "metadata": {
        "id": "lxr512UdqSLo",
        "colab_type": "code",
        "colab": {}
      },
      "source": [
        "cancer = load_breast_cancer()\n",
        "\n",
        "X_train, X_test, y_train, y_test = train_test_split(cancer.data, cancer.target\n",
        "                                                    , random_state=0)"
      ],
      "execution_count": 0,
      "outputs": []
    },
    {
      "cell_type": "code",
      "metadata": {
        "id": "WX6p94wtqcXv",
        "colab_type": "code",
        "colab": {
          "base_uri": "https://localhost:8080/",
          "height": 136
        },
        "outputId": "edbc59b4-a3f0-46ef-f690-22a2b15688c3"
      },
      "source": [
        "forest = RandomForestClassifier(n_estimators = 100, random_state = 0)\n",
        "forest.fit(X_train, y_train)"
      ],
      "execution_count": 15,
      "outputs": [
        {
          "output_type": "execute_result",
          "data": {
            "text/plain": [
              "RandomForestClassifier(bootstrap=True, class_weight=None, criterion='gini',\n",
              "                       max_depth=None, max_features='auto', max_leaf_nodes=None,\n",
              "                       min_impurity_decrease=0.0, min_impurity_split=None,\n",
              "                       min_samples_leaf=1, min_samples_split=2,\n",
              "                       min_weight_fraction_leaf=0.0, n_estimators=100,\n",
              "                       n_jobs=None, oob_score=False, random_state=0, verbose=0,\n",
              "                       warm_start=False)"
            ]
          },
          "metadata": {
            "tags": []
          },
          "execution_count": 15
        }
      ]
    },
    {
      "cell_type": "code",
      "metadata": {
        "id": "7WWqSDEurALl",
        "colab_type": "code",
        "colab": {
          "base_uri": "https://localhost:8080/",
          "height": 51
        },
        "outputId": "05b37a8b-d922-49ee-edd8-625369dafdbb"
      },
      "source": [
        "print('Accuracy of the training subset: {:.3}'.format(forest.score(X_train, y_train)))\n",
        "print('Accuracy of the testing subset: {:.3}'.format(forest.score(X_test, y_test)))"
      ],
      "execution_count": 16,
      "outputs": [
        {
          "output_type": "stream",
          "text": [
            "Accuracy of the training subset: 1.0\n",
            "Accuracy of the testing subset: 0.972\n"
          ],
          "name": "stdout"
        }
      ]
    },
    {
      "cell_type": "code",
      "metadata": {
        "id": "TV0Org0vrit7",
        "colab_type": "code",
        "colab": {
          "base_uri": "https://localhost:8080/",
          "height": 317
        },
        "outputId": "6a681841-1d7d-4c0f-e624-b45e9c0ef650"
      },
      "source": [
        "n_features = cancer.data.shape[1]\n",
        "plt.barh(range(n_features), forest.feature_importances_, align = 'center')\n",
        "plt.yticks(np.arange(n_features), cancer.feature_names)\n",
        "plt.xlabel('Feature importance')\n",
        "plt.ylabel('feature')\n",
        "plt.legend()"
      ],
      "execution_count": 18,
      "outputs": [
        {
          "output_type": "stream",
          "text": [
            "No handles with labels found to put in legend.\n"
          ],
          "name": "stderr"
        },
        {
          "output_type": "execute_result",
          "data": {
            "text/plain": [
              "<matplotlib.legend.Legend at 0x7f194de58550>"
            ]
          },
          "metadata": {
            "tags": []
          },
          "execution_count": 18
        },
        {
          "output_type": "display_data",
          "data": {
            "image/png": "[encoded data removed]",
            "text/plain": [
              "<Figure size 432x288 with 1 Axes>"
            ]
          },
          "metadata": {
            "tags": []
          }
        }
      ]
    },
    {
      "cell_type": "code",
      "metadata": {
        "id": "5WnLNuN1s_tU",
        "colab_type": "code",
        "colab": {}
      },
      "source": [
        ""
      ],
      "execution_count": 0,
      "outputs": []
    },
    {
      "cell_type": "markdown",
      "metadata": {
        "id": "bY7KG-W-41KO",
        "colab_type": "text"
      },
      "source": [
        "**Potential Advantages of Random Forests**\n",
        "\n",
        "powerful and widely implemented\n",
        "perform well with default settings\n",
        "dont require scaling of the data\n",
        "randomization makes them better than single DT\n",
        "\n",
        "**Parameters to Tune**\n",
        "n_jobs - number of cores to use for training (n_jobs=-1, for all cores)\n",
        "\n",
        "n_estimators - how many trees to use (more is always better)\n",
        "\n",
        "max_depth, for pre-pruning\n",
        "\n",
        "max_features, for randomization\n",
        "\n",
        "max_features = sqrt(n_features), for classification\n",
        "\n",
        "max_features = log2(n_features), for regression\n",
        "etc.\n",
        "\n",
        "**Potential Disadvantages of Random Forests**\n",
        "not so good performance on very high dimensional and sparse data (text data)\n",
        "large datasets require more resources for training (time, CPUs, etc).\n",
        "cannot be visualized as well as single DT\n"
      ]
    },
    {
      "cell_type": "code",
      "metadata": {
        "id": "XP-OZ8O94-_X",
        "colab_type": "code",
        "colab": {}
      },
      "source": [
        ""
      ],
      "execution_count": 0,
      "outputs": []
    }
  ]
}